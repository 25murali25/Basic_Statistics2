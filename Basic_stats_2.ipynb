{
 "cells": [
  {
   "cell_type": "code",
   "execution_count": 1,
   "id": "a97290dd-546a-4ebd-a4aa-064c7a70193b",
   "metadata": {},
   "outputs": [],
   "source": [
    "import numpy as np\n",
    "import scipy.stats as st"
   ]
  },
  {
   "cell_type": "code",
   "execution_count": 2,
   "id": "699d4403-4216-4246-a1c6-60eeaa2f7f19",
   "metadata": {},
   "outputs": [],
   "source": [
    "data = np.array([1.13, 1.55, 1.43, 0.92, 1.25, 1.36, 1.32,0.85, 1.07, 1.48, 1.20, 1.33, 1.18, 1.22, 1.29])"
   ]
  },
  {
   "cell_type": "code",
   "execution_count": 3,
   "id": "2985a40a-a8a5-4759-bec0-3da931864699",
   "metadata": {},
   "outputs": [],
   "source": [
    "n = len(data)                     \n",
    "xbar = np.mean(data)                \n",
    "s = np.std(data, ddof=1)"
   ]
  },
  {
   "cell_type": "code",
   "execution_count": 5,
   "id": "f98abcfb-59d4-4b69-b703-2689984533cc",
   "metadata": {},
   "outputs": [
    {
     "name": "stdout",
     "output_type": "stream",
     "text": [
      "Sample Size: 15\n",
      "Sample Mean: 1.2387\n",
      "Sample Std Dev: 0.1932\n"
     ]
    }
   ],
   "source": [
    "print(\"Sample Size:\", n)\n",
    "print(\"Sample Mean:\", round(xbar, 4))\n",
    "print(\"Sample Std Dev:\", round(s, 4))"
   ]
  },
  {
   "cell_type": "code",
   "execution_count": 7,
   "id": "8aa841fd-d9f8-4f04-bffd-695cb82bc7c7",
   "metadata": {},
   "outputs": [
    {
     "name": "stdout",
     "output_type": "stream",
     "text": [
      "t-distribution:\n",
      "t critical value: 2.9768\n",
      "Confidence Interval: (np.float64(1.09), np.float64(1.387))\n"
     ]
    }
   ],
   "source": [
    "alpha = 0.01\n",
    "df = n - 1\n",
    "t_crit = st.t.ppf(1 - alpha/2, df)   \n",
    "SE_t = s / np.sqrt(n)               \n",
    "margin_t = t_crit * SE_t            \n",
    "ci_t = (xbar - margin_t, xbar + margin_t)\n",
    "\n",
    "print(\"t-distribution:\")\n",
    "print(\"t critical value:\", round(t_crit, 4))\n",
    "print(\"Confidence Interval:\", (round(ci_t[0], 3), round(ci_t[1], 3)))"
   ]
  },
  {
   "cell_type": "code",
   "execution_count": 8,
   "id": "a3bc4707-a506-439c-b4fe-95e6933f8d7a",
   "metadata": {},
   "outputs": [],
   "source": [
    "sigma = 0.2                           \n",
    "z_crit = st.norm.ppf(1 - alpha/2)    \n",
    "SE_z = sigma / np.sqrt(n)            \n",
    "margin_z = z_crit * SE_z            \n",
    "ci_z = (xbar - margin_z, xbar + margin_z)"
   ]
  },
  {
   "cell_type": "code",
   "execution_count": 9,
   "id": "8a5a6323-232d-46de-b5b2-234205f4ee52",
   "metadata": {},
   "outputs": [
    {
     "name": "stdout",
     "output_type": "stream",
     "text": [
      "z-distribution:\n",
      "z critical value: 2.5758\n",
      "Confidence Interval: (np.float64(1.106), np.float64(1.372))\n"
     ]
    }
   ],
   "source": [
    "print(\"z-distribution:\")\n",
    "print(\"z critical value:\", round(z_crit, 4))\n",
    "print(\"Confidence Interval:\", (round(ci_z[0], 3), round(ci_z[1], 3)))"
   ]
  },
  {
   "cell_type": "code",
   "execution_count": null,
   "id": "9b05237f-d138-41e2-806e-fded6084ad00",
   "metadata": {},
   "outputs": [],
   "source": []
  }
 ],
 "metadata": {
  "kernelspec": {
   "display_name": "Python [conda env:base] *",
   "language": "python",
   "name": "conda-base-py"
  },
  "language_info": {
   "codemirror_mode": {
    "name": "ipython",
    "version": 3
   },
   "file_extension": ".py",
   "mimetype": "text/x-python",
   "name": "python",
   "nbconvert_exporter": "python",
   "pygments_lexer": "ipython3",
   "version": "3.13.5"
  }
 },
 "nbformat": 4,
 "nbformat_minor": 5
}
